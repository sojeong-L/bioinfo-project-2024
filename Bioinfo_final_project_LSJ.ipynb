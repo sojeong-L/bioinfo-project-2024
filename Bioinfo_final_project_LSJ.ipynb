{
 "cells": [
  {
   "cell_type": "markdown",
   "metadata": {},
   "source": [
    "## 생물정보학 및 실습 I final project (sojeong Lee)\n",
    "\n",
    "#### LIN28 CLIP-seq data를 활용하여 논문 figure와 유사한 형태로 재현하기"
   ]
  },
  {
   "cell_type": "markdown",
   "metadata": {},
   "source": [
    "* Misson3을 참고하여, 다른 cell의 CLIP-seq data set에서 Fig S2A와 유사한 형태로 재현하는 것을 목표로 함. \n",
    "* 원본 데이터에 맞춰서 데이터를 처리하고 시각화해보기"
   ]
  },
  {
   "cell_type": "markdown",
   "metadata": {},
   "source": [
    "2024-05-30\n",
    "Human K562 cell Lin28B CLIP-seq data from ENCODE\n"
   ]
  },
  {
   "cell_type": "markdown",
   "metadata": {},
   "source": [
    "1. change working directory"
   ]
  },
  {
   "cell_type": "code",
   "execution_count": 2,
   "metadata": {},
   "outputs": [
    {
     "name": "stdout",
     "output_type": "stream",
     "text": [
      "/qbio/lsj975/study/down_data\n"
     ]
    }
   ],
   "source": [
    "%cd /qbio/lsj975/study/down_data/"
   ]
  },
  {
   "cell_type": "code",
   "execution_count": 3,
   "metadata": {},
   "outputs": [
    {
     "name": "stdout",
     "output_type": "stream",
     "text": [
      "total 994852\n",
      "drwxr-xr-x 1 lsj975 qbio       146 May 30 19:38 .\n",
      "drwxr-xr-x 1 lsj975 qbio       288 May 30 19:43 ..\n",
      "drwxrwxrwx 1 root   qbio       300 May 30 19:47 @eaDir\n",
      "-rw-r--r-- 1 lsj975 qbio       195 May 30 19:07 files.txt\n",
      "-rw-r--r-- 1 lsj975 qbio 242463028 May 30 19:10 grch_lin28b_clip.bam\n",
      "-rw-r--r-- 1 lsj975 qbio    781912 May 30 17:57 GSE37111_clip.txt.gz\n",
      "-rwxrwxrwx 1 lsj975 qbio 775474314 May 30 19:25 SRR458759.fasta.gz\n"
     ]
    }
   ],
   "source": [
    "!ls -al"
   ]
  },
  {
   "cell_type": "markdown",
   "metadata": {},
   "source": [
    "2. human annotation file에서 miR-let7g 찾아보기"
   ]
  },
  {
   "cell_type": "code",
   "execution_count": 1,
   "metadata": {},
   "outputs": [
    {
     "name": "stdout",
     "output_type": "stream",
     "text": [
      "chr3\tENSEMBL\tgene\t52268278\t52268361\t.\t-\t.\tgene_id \"ENSG00000199150.3\"; gene_type \"miRNA\"; gene_name \"MIRLET7G\"; level 3; hgnc_id \"HGNC:31485\";\n",
      "chr3\tENSEMBL\ttranscript\t52268278\t52268361\t.\t-\t.\tgene_id \"ENSG00000199150.3\"; transcript_id \"ENST00000362280.3\"; gene_type \"miRNA\"; gene_name \"MIRLET7G\"; transcript_type \"miRNA\"; transcript_name \"MIRLET7G-201\"; level 3; transcript_support_level \"NA\"; hgnc_id \"HGNC:31485\"; tag \"basic\"; tag \"Ensembl_canonical\";\n",
      "chr3\tENSEMBL\texon\t52268278\t52268361\t.\t-\t.\tgene_id \"ENSG00000199150.3\"; transcript_id \"ENST00000362280.3\"; gene_type \"miRNA\"; gene_name \"MIRLET7G\"; transcript_type \"miRNA\"; transcript_name \"MIRLET7G-201\"; exon_number 1; exon_id \"ENSE00001437043.3\"; level 3; transcript_support_level \"NA\"; hgnc_id \"HGNC:31485\"; tag \"basic\"; tag \"Ensembl_canonical\";\n"
     ]
    }
   ],
   "source": [
    "!zcat /vault/db/gencode/human/latest_release/gencode.v45.annotation.gtf.gz |grep MIRLET7G"
   ]
  },
  {
   "cell_type": "markdown",
   "metadata": {},
   "source": [
    "** index file을 새로 만들어주고 해당 좌표 라인을 parsing하기"
   ]
  },
  {
   "cell_type": "code",
   "execution_count": 4,
   "metadata": {},
   "outputs": [
    {
     "name": "stdout",
     "output_type": "stream",
     "text": [
      "362\n"
     ]
    }
   ],
   "source": [
    "!samtools view -X grch_lin28b_clip.sorted.bam grch_lin28b_clip.sorted.bam.bai chr3:52268278-52268361 |wc -l"
   ]
  },
  {
   "cell_type": "code",
   "execution_count": 7,
   "metadata": {},
   "outputs": [],
   "source": [
    "!samtools view -X grch_lin28b_clip.sorted.bam grch_lin28b_clip.sorted.bam.bai chr3:52268278-52268361 -o lin28b_mirlet7g_clip.bam"
   ]
  },
  {
   "cell_type": "code",
   "execution_count": null,
   "metadata": {},
   "outputs": [],
   "source": []
  },
  {
   "cell_type": "code",
   "execution_count": null,
   "metadata": {},
   "outputs": [],
   "source": []
  }
 ],
 "metadata": {
  "kernelspec": {
   "display_name": "lab",
   "language": "python",
   "name": "python3"
  },
  "language_info": {
   "codemirror_mode": {
    "name": "ipython",
    "version": 3
   },
   "file_extension": ".py",
   "mimetype": "text/x-python",
   "name": "python",
   "nbconvert_exporter": "python",
   "pygments_lexer": "ipython3",
   "version": "3.9.16"
  }
 },
 "nbformat": 4,
 "nbformat_minor": 2
}
