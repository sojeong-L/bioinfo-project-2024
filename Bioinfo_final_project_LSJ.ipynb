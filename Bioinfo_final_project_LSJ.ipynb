{
 "cells": [
  {
   "cell_type": "markdown",
   "metadata": {},
   "source": [
    "## 생물정보학 및 실습 I final project (sojeong Lee)\n",
    "\n",
    "#### LIN28 CLIP-seq data를 활용하여 논문 figure와 유사한 형태로 재현하기"
   ]
  },
  {
   "cell_type": "markdown",
   "metadata": {},
   "source": [
    "* Misson3을 참고하여, 다른 cell의 CLIP-seq data set에서 Fig S2A와 유사한 형태로 재현하는 것을 목표로 함. \n",
    "* 원본 데이터에 맞춰서 데이터를 처리하고 시각화해보기"
   ]
  },
  {
   "cell_type": "markdown",
   "metadata": {},
   "source": [
    "2024-05-30\n",
    "Human K562 cell Lin28B CLIP-seq data from ENCODE\n"
   ]
  },
  {
   "cell_type": "markdown",
   "metadata": {},
   "source": [
    "1. change working directory"
   ]
  },
  {
   "cell_type": "code",
   "execution_count": 1,
   "metadata": {},
   "outputs": [
    {
     "name": "stdout",
     "output_type": "stream",
     "text": [
      "/qbio/lsj975/study/down_data\n"
     ]
    }
   ],
   "source": [
    "%cd /qbio/lsj975/study/down_data/"
   ]
  },
  {
   "cell_type": "code",
   "execution_count": 3,
   "metadata": {},
   "outputs": [
    {
     "name": "stdout",
     "output_type": "stream",
     "text": [
      "total 994852\n",
      "drwxr-xr-x 1 lsj975 qbio       146 May 30 19:38 .\n",
      "drwxr-xr-x 1 lsj975 qbio       288 May 30 19:43 ..\n",
      "drwxrwxrwx 1 root   qbio       300 May 30 19:47 @eaDir\n",
      "-rw-r--r-- 1 lsj975 qbio       195 May 30 19:07 files.txt\n",
      "-rw-r--r-- 1 lsj975 qbio 242463028 May 30 19:10 grch_lin28b_clip.bam\n",
      "-rw-r--r-- 1 lsj975 qbio    781912 May 30 17:57 GSE37111_clip.txt.gz\n",
      "-rwxrwxrwx 1 lsj975 qbio 775474314 May 30 19:25 SRR458759.fasta.gz\n"
     ]
    }
   ],
   "source": [
    "# The following commands are run in the terminal\n",
    "\n",
    "# samtools sort -b -o bam/grch_lin28b_clip.bam grch_lin28b_clip.sorted.bam\n",
    "# samtools index bam/grch_lin28b_clip.sorted.bam grch_lin28b_clip.sorted.bam.bai\n"
   ]
  },
  {
   "cell_type": "markdown",
   "metadata": {},
   "source": [
    "2. human annotation file에서 miR-let7f1 찾아보기"
   ]
  },
  {
   "cell_type": "code",
   "execution_count": 2,
   "metadata": {},
   "outputs": [
    {
     "name": "stdout",
     "output_type": "stream",
     "text": [
      "chr9\tENSEMBL\tgene\t94176347\t94176433\t.\t+\t.\tgene_id \"ENSG00000199072.3\"; gene_type \"miRNA\"; gene_name \"MIRLET7F1\"; level 3; hgnc_id \"HGNC:31483\";\n",
      "chr9\tENSEMBL\ttranscript\t94176347\t94176433\t.\t+\t.\tgene_id \"ENSG00000199072.3\"; transcript_id \"ENST00000362202.3\"; gene_type \"miRNA\"; gene_name \"MIRLET7F1\"; transcript_type \"miRNA\"; transcript_name \"MIRLET7F1-201\"; level 3; transcript_support_level \"NA\"; hgnc_id \"HGNC:31483\"; tag \"basic\"; tag \"Ensembl_canonical\";\n",
      "chr9\tENSEMBL\texon\t94176347\t94176433\t.\t+\t.\tgene_id \"ENSG00000199072.3\"; transcript_id \"ENST00000362202.3\"; gene_type \"miRNA\"; gene_name \"MIRLET7F1\"; transcript_type \"miRNA\"; transcript_name \"MIRLET7F1-201\"; exon_number 1; exon_id \"ENSE00001436965.3\"; level 3; transcript_support_level \"NA\"; hgnc_id \"HGNC:31483\"; tag \"basic\"; tag \"Ensembl_canonical\";\n"
     ]
    }
   ],
   "source": [
    "!zcat /vault/db/gencode/human/latest_release/gencode.v45.annotation.gtf.gz |grep MIRLET7F1"
   ]
  },
  {
   "cell_type": "markdown",
   "metadata": {},
   "source": [
    "** index file을 새로 만들어주고 해당 좌표 라인을 parsing하기"
   ]
  },
  {
   "cell_type": "code",
   "execution_count": 5,
   "metadata": {},
   "outputs": [],
   "source": [
    "!samtools view -X bam/grch_lin28b_clip.sorted.bam bam/grch_lin28b_clip.sorted.bam.bai chr9:94176347-94176433 -o lin28b_mirlet7f1_clip.bam"
   ]
  },
  {
   "cell_type": "code",
   "execution_count": 6,
   "metadata": {},
   "outputs": [
    {
     "name": "stdout",
     "output_type": "stream",
     "text": [
      "[mpileup] 1 samples in 1 input files\n",
      "34138 lin28b_mirlet7f1_clip.pileup\n"
     ]
    }
   ],
   "source": [
    "!samtools mpileup bam/lin28b_mirlet7f1_clip.bam > pileup/lin28b_mirlet7f1_clip.pileup\n",
    "!wc -l lin28b_mirlet7f1_clip.pileup"
   ]
  },
  {
   "cell_type": "code",
   "execution_count": 9,
   "metadata": {},
   "outputs": [
    {
     "name": "stdout",
     "output_type": "stream",
     "text": [
      "chr9\t94176424\tN\t453\t<C$CCCCCCCA$CCCCCCCCCCCCCCCCCCCCCCCCCCCCCCCCC$CCCCCCCCCC$CCCCCCCCCCCCCCCCCCCCCCCCCCCCCCCCCCCCCCCCCCCcccccccccccccccccCCCCCCCCCCCCCCCCCCCCCCCCCCCCCcccccccccccCCCCccccccccccccccccccccccccccccccccctcccCCCCCcccccccccccccCCCCCCCcccccccccC$CCCCCCCCcCCCCCCCCCCcccccccccccccccccccCCCCCCCCCCCCCCCCCCCCCCCCCCCCCCCCCCCccccccccccccccccccccccccccccccCCCCCcccccccccccccccccCCcccCCCCccccCCcccccccCCCccccccccccccCCcccccccccccccccccCcccccccCCcccCcccCccccccCCCccCcccCCCCccCCc^~c\tFkkFkkkkkkk/kkFkFkFFkkkkkkkkkFkkkkgkkaaTak]kkkkkkTWkkPkkkkakkXkFkFkFkFkTJkkkkPgkTkkkkPgkF/kkTkkkBkk/PFgkkkkkTkgFFWkgTBTTFkFakFgkkkkFTkakTkgkkkkkJFkTFkFkkkkFkkkkFFkWFFBaFTFFkFTk>FkFkgkkkkBkBkkFkkPkkkgkkkFkT<gaakkkkFkkkFkkkgkkkkkgkkkkggkkkkkkgkkakFkkkTkkkgaakkkkgkkkkgkkkakFkgkTkTkkgkaFgakkkkkgkkakkTakTkkkkkkkFkkTkkkkkkkkkaTk=kkgkkakkFkTgkkFkF<kkakgkakkTFTgaakkkkFTkkkkakkkkkcXFkBkFkkBT]kBka=kkkkTkkgakak7kkFFkk=kkFkkgkTa>kkkaakkkkkgkkkkkaJkgakT/kWakgk=k\n",
      "chr9\t94176425\tN\t454\t<CCCCCCCCCCCCCCCCCCC$CCCCCCCCCCCCCCCCCCCCCCCCCCCCCCCCCCCCCCCCCCCCCCCCCCCCCCCCCCCCCCCCCCCCCcccccccc$ccccccccccCCCCCCCCCCCCCCCCCCCCCCCCCCCCCCcccccccccccCCCCccccccccccccccccccccccccccc$ccccctcccCCCCCcccccccccccccCCCCCCcccccccccCCCCCCCCcCCCCCCCCCCcccccccccccccccccccCCCCCCCCCCCCCCCCCCCCCCCCCC$CCCCCCCCccccccccccccccccccccccccccccccCCCCCcccccccccccccccccCCcccCCCCccccCCcccccccCCCccccccccccccCCcccccccccccccccccCcccccccCCCccCcccCccccccCCCccCcccCCCCccCCcc^~C^~C^~c^~c^~c^~c^~c^~c^~c^~c\tFkFkkkTkkkkkakakgkkkkkgkFkkkkakkkkTgkkkgkkk]WkgkkkkTkkTkkkFkFkFkkkkkkkkPkkkkkkTkk/akk]kkk<kkB<FaakkBkkaakFFkkkTFTaFkFgkkgkkckgFakkkaakkkkkkT<kTFkFkkkcFkTkkFFkcFF<TF]FFkFgTF/FkkkkkgFkFkkFkkakkkkkkgFkk/kkTkkkkkkkkkkkkkkkkkkkkkTkkkkkkkkkkTkFkkkkkkkkaTgkkkkkkkakkkgEWkkakckakkgkkgTkTkkkgkkkkkaPkkkkkkTkkBkkkakkkgkkkkTakgkkkkkkkkFkJkkkFkFFkkkkkkkkkkFTTkkkkkkkk=kkkkkkkkkkWakkkFkkFagk<kkakkk]akkkkkak7kkFFkkckkFkkkkakTkkkkkkgkkkkTggkkaWkkgkTkkPkTkkPkaFk;kkkkaB\n",
      "chr9\t94176426\tN\t453\t<TTTTTTTT$TTTTTTTTTT$TT$TTTTTTTTTTT$TTTT$T$TTTTTTTTTT$TT$TTTTTTTTTTTTTTTT$TTTTTTT$TTTT$TTTTTT$TTTT$T$T$t$ttt$tt$t$t$t$t$tt$t$tt$t$t$T$TTTTTTTTTTTTTTTTT$TTTTTTT$TTTT$T$ttttt$ttttttTT$TTttttttttttt$ttttttttttttttttttttttttTTTTTtttttttttttttTTTTTTtt$tttttttTT$TT$TTTTtTT$TTTT$TTTTtttt$tttttttttttttt$tTT$TTTTTTTTTTTTTTTTTTTTTTTTTTTTTTTt$ttttt$ttttttttt$tt$ttttttt$tttttttTTT$TTttttttttt$ttttttttTTtttTTT$TttttTTtttttttTTTttttttttttttTTtttttttttttttttttTtttttttTTTttTtttGttttttTTTttTtttTTTTttTTttTTtttttttt^~T^~T\tFkFkkkkkkkkkkkk]kkkakkkFkkkkgkkkgTkkkk]kkgaTkkkkkkJgk>kkkFkFgFkkakkkkgkakkkkkcTkFJkkkkkk<gkB<FkkkFkk=gkFFkkakFkkFkFTkTgkkkkkFPkkkkTkkkkkkaFkTFkFkkkkFkTkkFFkTFF/aFkFBkFkkF<FkkckgBk<kkBkkkkkkkkkTFggFkk]kkkkkkkgkkkgkkkgkkkkkakkkkkgkkkkgkFkkkgkkkkkgakkkkkkkkkkkTJTkkgkTkgkkgkkkkkaTkkTkkkkTakgkkkkTakFkkkkakkkkkkkgPggkFkkkkkkkFkagkkFkFFkkkkkkkkkkB]kkkkkkkTgakkkkkkkkkkkTkkkFkgBakkFkkkgkkkakkagakk<kkFFkkTkkFkkgkagakgkkTk;kkkkkgkkakPkkkkTkkggagkTkgFkgkkkkJ<FF\n",
      "chr9\t94176427\tN\t406\t<T$T$T$TT$TTTT$TTTTTTTTTTTTTTTTTTTTTTTTTTTTTTTTT$T$TTTTTTTTT$TTT$TTTT$TTTT$TT$TTTTTTT$t$t$t$a$t$TTTTTT$TTTTTTTTTTTTT$TTTTTTtttt$tttt$tt$TTTtttttttttttttttta$tttttttttttttttttTTTTTtttttttttttttTT$TTTTttttttttTT$TTTTttTTT$TT$TTTtttttttttatttttttTTTTTTT$TTTTTTTTTTT$T$TTTTTTTTTTTTT$t$tt$tttttttt$tt$tttttttttttttTTTTttttttttttttttttT$T$tttTTTttttTTtttttttTTTttttttttttttTTtttttttttttttttttTtttttttTTTttTtttttttttTTTttTtttTGTTttTTttTTtttttttttTT^~T^~T^~t\tFkFkkkkkkkk]kkkkTkkkFggkckakkTkkgkkkTJkgkTkkkkgkkFkFkFkkkkkkkgkkgkg]kFkkkkW/kgkkgFkkFkFkkgkkkcaFTkkkkkkkkkFaFkFkkkFkgggFFkTFF<FkB/kFkkF/FTcakTFk/aFBkkgkgkkFaFFkk/kkgkkkkkkkkkkgkTkkkkkkgkgkkFTkkkkFkkkTkTakkkkkkkkkkkkkagkg]kkkgkkTkakaka]kk]kkkkTkkPgkkag<kkgkakkkkkkT=kFkgTkkkkFggkkFkFFkgkkkkkkk<gTkkkkkkgTkkkkkkckkT]TkgkFkkFgkkFkgTkkkkgkkkkkkg/kkFFkkTkkFkkkkg=]kkkkJkkkkkTkTTTgWkkkkk;kkgaTkkkkFkkkkkkT</FFFFT\n",
      "chr9\t94176428\tN\t375\t<C$C$C$CC$CCCCCCC$C$C$CCC$CCCCCCCC$CCCCCC$C$C$CCCCCCCCCC$CCCC$C$CCCC$C$CCCCCCCCCCCCCCGCCC$CC$A$CCCC$C$CCc$c$c$c$c$c$c$C$CAccc$c$ccc$cc$cccccc$cc$c$cccc$c$cc$ccc$ct$cc$c$CCCCCcccccc$ccc$cccc$cCC$C$CCcc$cccc$ccCCCCC$c$c$C$CCCC$C$cccccccccac$ccccc$cCCCCC$CCCCC$CCCCCCCCCCC$C$CC$CCCCc$ccc$ccc$c$cccc$c$cccccccccCCCCc$cccccccccccccccccccCCCccc$cCC$cccccccCCCccccccccccccccC$CcccccccccccccccccCcccccccCCCccCcccCccccccCCCccCcccCCCCccCCccCCcccccccccCCCCc^~c^~c^~c\tFkkakkkkkggkkTkkggkkkTkkgkkakkkkJkTkgkPkkkFkFFkkkkgkkkX=kFkkkkg/kFgTkkgkkgkFkkggkkkkkkFkkkFkkgkFFkkFFFFk/FFFkFFFaJakk/k/gF<kkgkkkkFkFFFkkFkggkkkkgkkkkgkakgkkkTkkkkFkkgFkkgkkkakakkFkkgkkkkk=gkkkkkkkk]kkgTTkk]kkkgakk=kgFkkgkgkkkkagPFkkTkgkkFTkkkFkFFkkkkkkkcFFkkFakkkg=gkkakkakFaTTkgkFkk<Tk<kFkkBgTkkakkkkgkgkFkkFFkkJkFFkkkkkTTkkkkgkWkkkkgkkggk]kkkkk=kkgTkgakgFkTkkkkkFBFFF/gFgF\n",
      "chr9\t94176429\tN\t305\t<A$CCCCCC$CC$CCCCA$CCCC$C$CCCCCCCCCC$CCCA$C$CCCCC$CC$CC$CCCC$CC$CACCC$CCCC$CCCc$c$c$c$c$c$c$c$c$c$c$c$c$c$c$c$c$c$c$c$C$A$C$CCcccccccc$c$aacCCG$cc$a$c$ccC$CCC$CCCc$t$gc$c$cc$cc$tccc$c$c$CCC$CCCCCCCC$C$C$C$C$C$CC$CCCCA$aa$cc$cc$cc$ccc$c$c$c$c$c$CCCCcccccc$ccccccccgccccACCcccCcccccccCCCccccccccccccccCcccccccccccccccccC$cccccccCCCccCcccCccccccCCCccCcccCCCCccCCccCCcccccccccCCCCcccc^~c^~c\tFkgkkkkaTkkkkak]kkTkkkPakkckgkBFFkkkJJTkFkkkkk<kFkkkakkFkkkkFkgkFTFBFFFFFFF]FFFFk<TkkkkFkFFFTFFkakkkggkkgkkkkakkkTFkTkkkTkkkFkk]kkk]kkakgkkPkgkTgkk=kPakkkFk]kkkg]FkkgkkkaFakkFkFFkkkkkkkgFBkgFkgkkkJkkkkakFPaakkkFkkFak<kFkJBkkkagkkgkk]k/kkFFkkgkFFkkgkkgkkkkkgkakFkFkgkkPkTkakgkTkakgakgkaFkkkkkkgF/FFFFgBgFBF\n",
      "chr9\t94176430\tN\t229\t<CCCCACCACTCCCCTA$T$CCCCCCCCCCTCCCCCCCCA$CACA$CCCACCa$a$a$g$c$a$a$a$a$a$T$Cat$a$ACCCCa$aa$ga$aCCCCCTCACCA$CCT$a$aa$a$ta$ACCCattattctatacctccccAACcccA$ccccccaCCCccccccccccccccCccccccccccccccccctccccccCCCccCcccCccccccCCCccCcccCCCCccCCccCCcccccccccCCCcccccc^~C^~c\tF=kaak]akaaTkgkkPTkkTkkFFFgJggFkgTFFakakFkkkFkkaFkFFFTFagkkkkkkkkkkFkTkFkkkTkkgkkkWkkaak>kkkcFkFgkkFkF<gkkkkkTFFkkFkkkkkTTkkk=kFaTTkgkFkgFaTFkFkkFakkg>kkkkk]kFkkFFkkkFFkkkkgTTkTkkgk=gFkFBggkTkkkkkkkTkTkckkPkaFkkkkkkFFFFFFaFTFFFTk\n",
      "chr9\t94176431\tN\t203\t<TTTTTTTTTTTTTTATTTTTTTTTTTTTTTTTTTTTTTTTA$TTTt$T$TTTTaa$atTT$TTTTTTTTTTttATTTttttttttttattcttttTTTttttttttttTTTttttttttttttttTttttttttttttttttttttttttTTTttTtttTttttttTTTttTtttTTTTttTTttTTtttttttttTTTttttttTt\tFgkTkkTakkggggkkkkJkk<FFkkc=Fkkg/FgakFkkFkkgkkTkkkFB/FkkPkkagkkTkkkkTkFgkkFkFFkkkgkkTFFkkFkakkkkkkkkkFPaTkkkFgkFTkFkFkkFgkkkakkkkkkk/k>FFkkkFFkkkkagakgkkkaTkFkF<gakJk=kTkkkTk]kJkkkkTFkakkkgFFFFFFkFkFFFkk\n",
      "chr9\t94176432\tN\t200\t<GGG$GTGGTGT$GGGGTGGGGGGGGGGT$GGGGGG$GGTGGGGGGGGGGGa$atGGGGTGTGGGGctT$GGGttttttgttttggggggggATGgggggggggtGGGggggggggggggggGgggggggggggggggggt$gggggggGGGggGgggGggggggGGGggGgggGGGGggGGggGGgggggggggGGGggggggGg^~g\tFkkkkkaak]kkakkkkkTkk/FFgJJTkkkkakak<kkFkTakkkFFFkkkkTkkkkkkgkakFkkkFkFFckkkkFkgFF>gFkkkkgFkkkJgFk<gkgaFkkFa>FkFkkFkkkkakkkkkgkBgkFFkkkFFk/kkkkggkkkkTgakFkFBkkggkTkakkkWk]kPkkTkTFkkkkkkFFFkFFkFkFFFkkk\n",
      "chr9\t94176433\tN\t199\t<AAAT$AAT$AAAAAT$AAAAAAAAAAAAAAAAAT$AAAAAAAAAAAatAAAATAT$AAAAttAAAttttttaatttgaattaaaaATAaaaaaaaaatAAAaaat$aaaaaaaaaaaAaaaaaaaaaaaaaaaaaaaaaaaaAAAaaAaaaAaaaaaaAAAaaAaaaAAAAaaAAaaAAaaaaaaaaaaAAaaaaaaAaaa^~A^~a^~a\tFgkkkTakkTkgkkkkTkkgFFkgkakkTkTkFkkFgakkkkFFkkkT]kkkkkkgkgFkakFkF<TFkkgFFBFFFTkFkkkkk<gkkckFgB]kkkFk/kFaTBkFkkFkkkkakkkkkFkBTkFFkkFFkBkkkkTakkkkakakFkFBPkkTkakkgkgJkakTkkPkTFkFTkkkkBFFTFkFkFFFkkFkkk;\n"
     ]
    }
   ],
   "source": [
    "!awk '$2 >= 94176347 && $2 <= 94176433 { print $0; }' pileup/lin28b_mirlet7f1_clip.pileup > pileup/lin28b_mirlet7f1_clip-gene.pileup\n",
    "!tail pileup/lin28b_mirlet7f1_clip-gene.pileup"
   ]
  },
  {
   "cell_type": "markdown",
   "metadata": {},
   "source": []
  },
  {
   "cell_type": "markdown",
   "metadata": {},
   "source": [
    "#### Calculate Shannon entropy"
   ]
  },
  {
   "cell_type": "code",
   "execution_count": 10,
   "metadata": {},
   "outputs": [
    {
     "data": {
      "text/html": [
       "<div>\n",
       "<style scoped>\n",
       "    .dataframe tbody tr th:only-of-type {\n",
       "        vertical-align: middle;\n",
       "    }\n",
       "\n",
       "    .dataframe tbody tr th {\n",
       "        vertical-align: top;\n",
       "    }\n",
       "\n",
       "    .dataframe thead th {\n",
       "        text-align: right;\n",
       "    }\n",
       "</style>\n",
       "<table border=\"1\" class=\"dataframe\">\n",
       "  <thead>\n",
       "    <tr style=\"text-align: right;\">\n",
       "      <th></th>\n",
       "      <th>chrom</th>\n",
       "      <th>pos</th>\n",
       "      <th>_ref</th>\n",
       "      <th>count</th>\n",
       "      <th>basereads</th>\n",
       "      <th>quals</th>\n",
       "    </tr>\n",
       "  </thead>\n",
       "  <tbody>\n",
       "    <tr>\n",
       "      <th>0</th>\n",
       "      <td>chr9</td>\n",
       "      <td>94176347</td>\n",
       "      <td>N</td>\n",
       "      <td>13</td>\n",
       "      <td>&lt;TTTTTTTTTTTt</td>\n",
       "      <td>FFgF&lt;FFFFFF/P</td>\n",
       "    </tr>\n",
       "    <tr>\n",
       "      <th>1</th>\n",
       "      <td>chr9</td>\n",
       "      <td>94176348</td>\n",
       "      <td>N</td>\n",
       "      <td>13</td>\n",
       "      <td>&lt;CCCCCCCCCCCc</td>\n",
       "      <td>FFaFFFFFFFF/k</td>\n",
       "    </tr>\n",
       "    <tr>\n",
       "      <th>2</th>\n",
       "      <td>chr9</td>\n",
       "      <td>94176349</td>\n",
       "      <td>N</td>\n",
       "      <td>13</td>\n",
       "      <td>&lt;AAAAAAAAAAAa</td>\n",
       "      <td>FFaFBFFFFFFFa</td>\n",
       "    </tr>\n",
       "    <tr>\n",
       "      <th>3</th>\n",
       "      <td>chr9</td>\n",
       "      <td>94176350</td>\n",
       "      <td>N</td>\n",
       "      <td>13</td>\n",
       "      <td>&lt;G$GGGGGGGGGGg</td>\n",
       "      <td>FFkFFFFFFFFFJ</td>\n",
       "    </tr>\n",
       "    <tr>\n",
       "      <th>4</th>\n",
       "      <td>chr9</td>\n",
       "      <td>94176351</td>\n",
       "      <td>N</td>\n",
       "      <td>12</td>\n",
       "      <td>&lt;A$AAAAAAAAAa</td>\n",
       "      <td>FJFFFFFFFFFF</td>\n",
       "    </tr>\n",
       "    <tr>\n",
       "      <th>...</th>\n",
       "      <td>...</td>\n",
       "      <td>...</td>\n",
       "      <td>...</td>\n",
       "      <td>...</td>\n",
       "      <td>...</td>\n",
       "      <td>...</td>\n",
       "    </tr>\n",
       "    <tr>\n",
       "      <th>82</th>\n",
       "      <td>chr9</td>\n",
       "      <td>94176429</td>\n",
       "      <td>N</td>\n",
       "      <td>305</td>\n",
       "      <td>&lt;A$CCCCCC$CC$CCCCA$CCCC$C$CCCCCCCCCC$CCCA$C$CC...</td>\n",
       "      <td>FkgkkkkaTkkkkak]kkTkkkPakkckgkBFFkkkJJTkFkkkkk...</td>\n",
       "    </tr>\n",
       "    <tr>\n",
       "      <th>83</th>\n",
       "      <td>chr9</td>\n",
       "      <td>94176430</td>\n",
       "      <td>N</td>\n",
       "      <td>229</td>\n",
       "      <td>&lt;CCCCACCACTCCCCTA$T$CCCCCCCCCCTCCCCCCCCA$CACA$...</td>\n",
       "      <td>F=kaak]akaaTkgkkPTkkTkkFFFgJggFkgTFFakakFkkkFk...</td>\n",
       "    </tr>\n",
       "    <tr>\n",
       "      <th>84</th>\n",
       "      <td>chr9</td>\n",
       "      <td>94176431</td>\n",
       "      <td>N</td>\n",
       "      <td>203</td>\n",
       "      <td>&lt;TTTTTTTTTTTTTTATTTTTTTTTTTTTTTTTTTTTTTTTA$TTT...</td>\n",
       "      <td>FgkTkkTakkggggkkkkJkk&lt;FFkkc=Fkkg/FgakFkkFkkgkk...</td>\n",
       "    </tr>\n",
       "    <tr>\n",
       "      <th>85</th>\n",
       "      <td>chr9</td>\n",
       "      <td>94176432</td>\n",
       "      <td>N</td>\n",
       "      <td>200</td>\n",
       "      <td>&lt;GGG$GTGGTGT$GGGGTGGGGGGGGGGT$GGGGGG$GGTGGGGGG...</td>\n",
       "      <td>Fkkkkkaak]kkakkkkkTkk/FFgJJTkkkkakak&lt;kkFkTakkk...</td>\n",
       "    </tr>\n",
       "    <tr>\n",
       "      <th>86</th>\n",
       "      <td>chr9</td>\n",
       "      <td>94176433</td>\n",
       "      <td>N</td>\n",
       "      <td>199</td>\n",
       "      <td>&lt;AAAT$AAT$AAAAAT$AAAAAAAAAAAAAAAAAT$AAAAAAAAAA...</td>\n",
       "      <td>FgkkkTakkTkgkkkkTkkgFFkgkakkTkTkFkkFgakkkkFFkk...</td>\n",
       "    </tr>\n",
       "  </tbody>\n",
       "</table>\n",
       "<p>87 rows × 6 columns</p>\n",
       "</div>"
      ],
      "text/plain": [
       "   chrom       pos _ref  count  \\\n",
       "0   chr9  94176347    N     13   \n",
       "1   chr9  94176348    N     13   \n",
       "2   chr9  94176349    N     13   \n",
       "3   chr9  94176350    N     13   \n",
       "4   chr9  94176351    N     12   \n",
       "..   ...       ...  ...    ...   \n",
       "82  chr9  94176429    N    305   \n",
       "83  chr9  94176430    N    229   \n",
       "84  chr9  94176431    N    203   \n",
       "85  chr9  94176432    N    200   \n",
       "86  chr9  94176433    N    199   \n",
       "\n",
       "                                            basereads  \\\n",
       "0                                       <TTTTTTTTTTTt   \n",
       "1                                       <CCCCCCCCCCCc   \n",
       "2                                       <AAAAAAAAAAAa   \n",
       "3                                      <G$GGGGGGGGGGg   \n",
       "4                                       <A$AAAAAAAAAa   \n",
       "..                                                ...   \n",
       "82  <A$CCCCCC$CC$CCCCA$CCCC$C$CCCCCCCCCC$CCCA$C$CC...   \n",
       "83  <CCCCACCACTCCCCTA$T$CCCCCCCCCCTCCCCCCCCA$CACA$...   \n",
       "84  <TTTTTTTTTTTTTTATTTTTTTTTTTTTTTTTTTTTTTTTA$TTT...   \n",
       "85  <GGG$GTGGTGT$GGGGTGGGGGGGGGGT$GGGGGG$GGTGGGGGG...   \n",
       "86  <AAAT$AAT$AAAAAT$AAAAAAAAAAAAAAAAAT$AAAAAAAAAA...   \n",
       "\n",
       "                                                quals  \n",
       "0                                       FFgF<FFFFFF/P  \n",
       "1                                       FFaFFFFFFFF/k  \n",
       "2                                       FFaFBFFFFFFFa  \n",
       "3                                       FFkFFFFFFFFFJ  \n",
       "4                                        FJFFFFFFFFFF  \n",
       "..                                                ...  \n",
       "82  FkgkkkkaTkkkkak]kkTkkkPakkckgkBFFkkkJJTkFkkkkk...  \n",
       "83  F=kaak]akaaTkgkkPTkkTkkFFFgJggFkgTFFakakFkkkFk...  \n",
       "84  FgkTkkTakkggggkkkkJkk<FFkkc=Fkkg/FgakFkkFkkgkk...  \n",
       "85  Fkkkkkaak]kkakkkkkTkk/FFgJJTkkkkakak<kkFkTakkk...  \n",
       "86  FgkkkTakkTkgkkkkTkkgFFkgkakkTkTkFkkFgakkkkFFkk...  \n",
       "\n",
       "[87 rows x 6 columns]"
      ]
     },
     "execution_count": 10,
     "metadata": {},
     "output_type": "execute_result"
    }
   ],
   "source": [
    "import pandas as pd\n",
    "\n",
    "pileup = pd.read_csv('pileup/lin28b_mirlet7f1_clip-gene.pileup', sep='\\t', names=['chrom', 'pos', '_ref', 'count', 'basereads', 'quals'])\n",
    "pileup"
   ]
  },
  {
   "cell_type": "code",
   "execution_count": 11,
   "metadata": {},
   "outputs": [],
   "source": [
    "import re\n",
    "toremove = re.compile('[<>$*#^]')\n",
    "pileup['matches'] = pileup['basereads'].apply(lambda x: toremove.sub('', x).upper())\n"
   ]
  },
  {
   "cell_type": "code",
   "execution_count": 12,
   "metadata": {},
   "outputs": [
    {
     "data": {
      "text/html": [
       "<div>\n",
       "<style scoped>\n",
       "    .dataframe tbody tr th:only-of-type {\n",
       "        vertical-align: middle;\n",
       "    }\n",
       "\n",
       "    .dataframe tbody tr th {\n",
       "        vertical-align: top;\n",
       "    }\n",
       "\n",
       "    .dataframe thead th {\n",
       "        text-align: right;\n",
       "    }\n",
       "</style>\n",
       "<table border=\"1\" class=\"dataframe\">\n",
       "  <thead>\n",
       "    <tr style=\"text-align: right;\">\n",
       "      <th></th>\n",
       "      <th>chrom</th>\n",
       "      <th>pos</th>\n",
       "      <th>matches</th>\n",
       "    </tr>\n",
       "  </thead>\n",
       "  <tbody>\n",
       "    <tr>\n",
       "      <th>0</th>\n",
       "      <td>chr9</td>\n",
       "      <td>94176347</td>\n",
       "      <td>TTTTTTTTTTTT</td>\n",
       "    </tr>\n",
       "    <tr>\n",
       "      <th>1</th>\n",
       "      <td>chr9</td>\n",
       "      <td>94176348</td>\n",
       "      <td>CCCCCCCCCCCC</td>\n",
       "    </tr>\n",
       "    <tr>\n",
       "      <th>2</th>\n",
       "      <td>chr9</td>\n",
       "      <td>94176349</td>\n",
       "      <td>AAAAAAAAAAAA</td>\n",
       "    </tr>\n",
       "    <tr>\n",
       "      <th>3</th>\n",
       "      <td>chr9</td>\n",
       "      <td>94176350</td>\n",
       "      <td>GGGGGGGGGGGG</td>\n",
       "    </tr>\n",
       "    <tr>\n",
       "      <th>4</th>\n",
       "      <td>chr9</td>\n",
       "      <td>94176351</td>\n",
       "      <td>AAAAAAAAAAA</td>\n",
       "    </tr>\n",
       "    <tr>\n",
       "      <th>...</th>\n",
       "      <td>...</td>\n",
       "      <td>...</td>\n",
       "      <td>...</td>\n",
       "    </tr>\n",
       "    <tr>\n",
       "      <th>82</th>\n",
       "      <td>chr9</td>\n",
       "      <td>94176429</td>\n",
       "      <td>ACCCCCCCCCCCCACCCCCCCCCCCCCCCCCCACCCCCCCCCCCCC...</td>\n",
       "    </tr>\n",
       "    <tr>\n",
       "      <th>83</th>\n",
       "      <td>chr9</td>\n",
       "      <td>94176430</td>\n",
       "      <td>CCCCACCACTCCCCTATCCCCCCCCCCTCCCCCCCCACACACCCAC...</td>\n",
       "    </tr>\n",
       "    <tr>\n",
       "      <th>84</th>\n",
       "      <td>chr9</td>\n",
       "      <td>94176431</td>\n",
       "      <td>TTTTTTTTTTTTTTATTTTTTTTTTTTTTTTTTTTTTTTTATTTTT...</td>\n",
       "    </tr>\n",
       "    <tr>\n",
       "      <th>85</th>\n",
       "      <td>chr9</td>\n",
       "      <td>94176432</td>\n",
       "      <td>GGGGTGGTGTGGGGTGGGGGGGGGGTGGGGGGGGTGGGGGGGGGGG...</td>\n",
       "    </tr>\n",
       "    <tr>\n",
       "      <th>86</th>\n",
       "      <td>chr9</td>\n",
       "      <td>94176433</td>\n",
       "      <td>AAATAATAAAAATAAAAAAAAAAAAAAAAATAAAAAAAAAAAATAA...</td>\n",
       "    </tr>\n",
       "  </tbody>\n",
       "</table>\n",
       "<p>87 rows × 3 columns</p>\n",
       "</div>"
      ],
      "text/plain": [
       "   chrom       pos                                            matches\n",
       "0   chr9  94176347                                       TTTTTTTTTTTT\n",
       "1   chr9  94176348                                       CCCCCCCCCCCC\n",
       "2   chr9  94176349                                       AAAAAAAAAAAA\n",
       "3   chr9  94176350                                       GGGGGGGGGGGG\n",
       "4   chr9  94176351                                        AAAAAAAAAAA\n",
       "..   ...       ...                                                ...\n",
       "82  chr9  94176429  ACCCCCCCCCCCCACCCCCCCCCCCCCCCCCCACCCCCCCCCCCCC...\n",
       "83  chr9  94176430  CCCCACCACTCCCCTATCCCCCCCCCCTCCCCCCCCACACACCCAC...\n",
       "84  chr9  94176431  TTTTTTTTTTTTTTATTTTTTTTTTTTTTTTTTTTTTTTTATTTTT...\n",
       "85  chr9  94176432  GGGGTGGTGTGGGGTGGGGGGGGGGTGGGGGGGGTGGGGGGGGGGG...\n",
       "86  chr9  94176433  AAATAATAAAAATAAAAAAAAAAAAAAAAATAAAAAAAAAAAATAA...\n",
       "\n",
       "[87 rows x 3 columns]"
      ]
     },
     "execution_count": 12,
     "metadata": {},
     "output_type": "execute_result"
    }
   ],
   "source": [
    "pileup[['chrom', 'pos', 'matches']]"
   ]
  },
  {
   "cell_type": "code",
   "execution_count": 13,
   "metadata": {},
   "outputs": [
    {
     "name": "stderr",
     "output_type": "stream",
     "text": [
      "/tmp/ipykernel_2135880/620243297.py:7: RuntimeWarning: divide by zero encountered in log2\n",
      "  prob = [-(base_count[i]/total[i])*np.log2(base_count[i]/total[i]) if total[i] != 0 else [0,0,0,0] for i in range(len(base_count))]\n",
      "/tmp/ipykernel_2135880/620243297.py:7: RuntimeWarning: invalid value encountered in multiply\n",
      "  prob = [-(base_count[i]/total[i])*np.log2(base_count[i]/total[i]) if total[i] != 0 else [0,0,0,0] for i in range(len(base_count))]\n"
     ]
    },
    {
     "data": {
      "text/html": [
       "<div>\n",
       "<style scoped>\n",
       "    .dataframe tbody tr th:only-of-type {\n",
       "        vertical-align: middle;\n",
       "    }\n",
       "\n",
       "    .dataframe tbody tr th {\n",
       "        vertical-align: top;\n",
       "    }\n",
       "\n",
       "    .dataframe thead th {\n",
       "        text-align: right;\n",
       "    }\n",
       "</style>\n",
       "<table border=\"1\" class=\"dataframe\">\n",
       "  <thead>\n",
       "    <tr style=\"text-align: right;\">\n",
       "      <th></th>\n",
       "      <th>chrom</th>\n",
       "      <th>pos</th>\n",
       "      <th>end</th>\n",
       "      <th>score</th>\n",
       "    </tr>\n",
       "  </thead>\n",
       "  <tbody>\n",
       "    <tr>\n",
       "      <th>0</th>\n",
       "      <td>chr9</td>\n",
       "      <td>94176347</td>\n",
       "      <td>94176348</td>\n",
       "      <td>0.000000</td>\n",
       "    </tr>\n",
       "    <tr>\n",
       "      <th>1</th>\n",
       "      <td>chr9</td>\n",
       "      <td>94176348</td>\n",
       "      <td>94176349</td>\n",
       "      <td>0.000000</td>\n",
       "    </tr>\n",
       "    <tr>\n",
       "      <th>2</th>\n",
       "      <td>chr9</td>\n",
       "      <td>94176349</td>\n",
       "      <td>94176350</td>\n",
       "      <td>0.000000</td>\n",
       "    </tr>\n",
       "    <tr>\n",
       "      <th>3</th>\n",
       "      <td>chr9</td>\n",
       "      <td>94176350</td>\n",
       "      <td>94176351</td>\n",
       "      <td>0.000000</td>\n",
       "    </tr>\n",
       "    <tr>\n",
       "      <th>4</th>\n",
       "      <td>chr9</td>\n",
       "      <td>94176351</td>\n",
       "      <td>94176352</td>\n",
       "      <td>0.000000</td>\n",
       "    </tr>\n",
       "    <tr>\n",
       "      <th>...</th>\n",
       "      <td>...</td>\n",
       "      <td>...</td>\n",
       "      <td>...</td>\n",
       "      <td>...</td>\n",
       "    </tr>\n",
       "    <tr>\n",
       "      <th>82</th>\n",
       "      <td>chr9</td>\n",
       "      <td>94176429</td>\n",
       "      <td>94176430</td>\n",
       "      <td>0.382821</td>\n",
       "    </tr>\n",
       "    <tr>\n",
       "      <th>83</th>\n",
       "      <td>chr9</td>\n",
       "      <td>94176430</td>\n",
       "      <td>94176431</td>\n",
       "      <td>1.093729</td>\n",
       "    </tr>\n",
       "    <tr>\n",
       "      <th>84</th>\n",
       "      <td>chr9</td>\n",
       "      <td>94176431</td>\n",
       "      <td>94176432</td>\n",
       "      <td>0.262001</td>\n",
       "    </tr>\n",
       "    <tr>\n",
       "      <th>85</th>\n",
       "      <td>chr9</td>\n",
       "      <td>94176432</td>\n",
       "      <td>94176433</td>\n",
       "      <td>0.689403</td>\n",
       "    </tr>\n",
       "    <tr>\n",
       "      <th>86</th>\n",
       "      <td>chr9</td>\n",
       "      <td>94176433</td>\n",
       "      <td>94176434</td>\n",
       "      <td>0.576090</td>\n",
       "    </tr>\n",
       "  </tbody>\n",
       "</table>\n",
       "<p>87 rows × 4 columns</p>\n",
       "</div>"
      ],
      "text/plain": [
       "   chrom       pos       end     score\n",
       "0   chr9  94176347  94176348  0.000000\n",
       "1   chr9  94176348  94176349  0.000000\n",
       "2   chr9  94176349  94176350  0.000000\n",
       "3   chr9  94176350  94176351  0.000000\n",
       "4   chr9  94176351  94176352  0.000000\n",
       "..   ...       ...       ...       ...\n",
       "82  chr9  94176429  94176430  0.382821\n",
       "83  chr9  94176430  94176431  1.093729\n",
       "84  chr9  94176431  94176432  0.262001\n",
       "85  chr9  94176432  94176433  0.689403\n",
       "86  chr9  94176433  94176434  0.576090\n",
       "\n",
       "[87 rows x 4 columns]"
      ]
     },
     "execution_count": 13,
     "metadata": {},
     "output_type": "execute_result"
    }
   ],
   "source": [
    "import numpy as np\n",
    "\n",
    "total = pileup['matches'].apply(lambda n: len(n) )\n",
    "base_count = pileup['matches'].apply(lambda x: [x.count(base) for base in ['A', 'T', 'G', 'C']])\n",
    "prob = [-(base_count[i]/total[i])*np.log2(base_count[i]/total[i]) if total[i] != 0 else [0,0,0,0] for i in range(len(base_count))]\n",
    "pileup['score'] = pd.DataFrame(prob).fillna(0).sum(axis=1)\n",
    "pileup['end'] = pileup['pos']+1\n",
    "\n",
    "pileup[['chrom', 'pos', 'end', 'score']]"
   ]
  },
  {
   "cell_type": "code",
   "execution_count": 14,
   "metadata": {},
   "outputs": [
    {
     "data": {
      "text/html": [
       "<div>\n",
       "<style scoped>\n",
       "    .dataframe tbody tr th:only-of-type {\n",
       "        vertical-align: middle;\n",
       "    }\n",
       "\n",
       "    .dataframe tbody tr th {\n",
       "        vertical-align: top;\n",
       "    }\n",
       "\n",
       "    .dataframe thead th {\n",
       "        text-align: right;\n",
       "    }\n",
       "</style>\n",
       "<table border=\"1\" class=\"dataframe\">\n",
       "  <thead>\n",
       "    <tr style=\"text-align: right;\">\n",
       "      <th></th>\n",
       "      <th>pos</th>\n",
       "      <th>end</th>\n",
       "      <th>score</th>\n",
       "    </tr>\n",
       "  </thead>\n",
       "  <tbody>\n",
       "    <tr>\n",
       "      <th>count</th>\n",
       "      <td>8.700000e+01</td>\n",
       "      <td>8.700000e+01</td>\n",
       "      <td>87.000000</td>\n",
       "    </tr>\n",
       "    <tr>\n",
       "      <th>mean</th>\n",
       "      <td>9.417639e+07</td>\n",
       "      <td>9.417639e+07</td>\n",
       "      <td>0.110228</td>\n",
       "    </tr>\n",
       "    <tr>\n",
       "      <th>std</th>\n",
       "      <td>2.525866e+01</td>\n",
       "      <td>2.525866e+01</td>\n",
       "      <td>0.182416</td>\n",
       "    </tr>\n",
       "    <tr>\n",
       "      <th>min</th>\n",
       "      <td>9.417635e+07</td>\n",
       "      <td>9.417635e+07</td>\n",
       "      <td>0.000000</td>\n",
       "    </tr>\n",
       "    <tr>\n",
       "      <th>25%</th>\n",
       "      <td>9.417637e+07</td>\n",
       "      <td>9.417637e+07</td>\n",
       "      <td>0.000000</td>\n",
       "    </tr>\n",
       "    <tr>\n",
       "      <th>50%</th>\n",
       "      <td>9.417639e+07</td>\n",
       "      <td>9.417639e+07</td>\n",
       "      <td>0.040149</td>\n",
       "    </tr>\n",
       "    <tr>\n",
       "      <th>75%</th>\n",
       "      <td>9.417641e+07</td>\n",
       "      <td>9.417641e+07</td>\n",
       "      <td>0.124692</td>\n",
       "    </tr>\n",
       "    <tr>\n",
       "      <th>max</th>\n",
       "      <td>9.417643e+07</td>\n",
       "      <td>9.417643e+07</td>\n",
       "      <td>1.093729</td>\n",
       "    </tr>\n",
       "  </tbody>\n",
       "</table>\n",
       "</div>"
      ],
      "text/plain": [
       "                pos           end      score\n",
       "count  8.700000e+01  8.700000e+01  87.000000\n",
       "mean   9.417639e+07  9.417639e+07   0.110228\n",
       "std    2.525866e+01  2.525866e+01   0.182416\n",
       "min    9.417635e+07  9.417635e+07   0.000000\n",
       "25%    9.417637e+07  9.417637e+07   0.000000\n",
       "50%    9.417639e+07  9.417639e+07   0.040149\n",
       "75%    9.417641e+07  9.417641e+07   0.124692\n",
       "max    9.417643e+07  9.417643e+07   1.093729"
      ]
     },
     "execution_count": 14,
     "metadata": {},
     "output_type": "execute_result"
    }
   ],
   "source": [
    "bedf = pileup[['chrom', 'pos', 'end', 'score']]\n",
    "bedf.describe()"
   ]
  },
  {
   "cell_type": "code",
   "execution_count": 15,
   "metadata": {},
   "outputs": [],
   "source": [
    "bedf.to_csv('/qbio/lsj975/study/down_data/UCSC/mirlet7f1_shannon_entropy.bedGraph', sep = '\\t', index=False, header=False)"
   ]
  },
  {
   "cell_type": "markdown",
   "metadata": {},
   "source": [
    "When upload wig file to UCSC genome brower, wrtie track description including track type=bedGraph, and other annotation like name, description. "
   ]
  },
  {
   "cell_type": "code",
   "execution_count": null,
   "metadata": {},
   "outputs": [],
   "source": []
  }
 ],
 "metadata": {
  "kernelspec": {
   "display_name": "lab",
   "language": "python",
   "name": "python3"
  },
  "language_info": {
   "codemirror_mode": {
    "name": "ipython",
    "version": 3
   },
   "file_extension": ".py",
   "mimetype": "text/x-python",
   "name": "python",
   "nbconvert_exporter": "python",
   "pygments_lexer": "ipython3",
   "version": "3.9.16"
  }
 },
 "nbformat": 4,
 "nbformat_minor": 2
}
