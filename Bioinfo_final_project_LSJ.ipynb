{
 "cells": [
  {
   "cell_type": "markdown",
   "metadata": {},
   "source": [
    "## 생물정보학 및 실습 I final project (sojeong Lee)\n",
    "\n",
    "#### LIN28 CLIP-seq data를 활용하여 논문 figure와 유사한 형태로 재현하기"
   ]
  },
  {
   "cell_type": "markdown",
   "metadata": {},
   "source": [
    "* Misson3을 참고하여, 다른 cell의 CLIP-seq data set에서 Fig S2A와 유사한 형태로 재현하는 것을 목표로 함. \n",
    "* 원본 데이터에 맞춰서 데이터를 처리하고 시각화해보기"
   ]
  },
  {
   "cell_type": "markdown",
   "metadata": {},
   "source": [
    "2024-05-30\n",
    "Human K562 cell Lin28B CLIP-seq data from ENCODE\n"
   ]
  },
  {
   "cell_type": "markdown",
   "metadata": {},
   "source": [
    "1. change working directory"
   ]
  },
  {
   "cell_type": "code",
   "execution_count": 1,
   "metadata": {},
   "outputs": [
    {
     "name": "stdout",
     "output_type": "stream",
     "text": [
      "/qbio/lsj975/study/down_data\n"
     ]
    }
   ],
   "source": [
    "%cd /qbio/lsj975/study/down_data/"
   ]
  },
  {
   "cell_type": "code",
   "execution_count": 5,
   "metadata": {},
   "outputs": [
    {
     "name": "stdout",
     "output_type": "stream",
     "text": [
      "total 994852\n",
      "drwxr-xr-x 1 lsj975 qbio       146 May 30 19:38 .\n",
      "drwxr-xr-x 1 lsj975 qbio       226 May 30 17:53 ..\n",
      "drwxrwxrwx 1 root   qbio       380 May 30 19:25 @eaDir\n",
      "-rw-r--r-- 1 lsj975 qbio       195 May 30 19:07 files.txt\n",
      "-rw-r--r-- 1 lsj975 qbio 242463028 May 30 19:10 grch_lin28b_clip.bam\n",
      "-rw-r--r-- 1 lsj975 qbio    781912 May 30 17:57 GSE37111_clip.txt.gz\n",
      "-rwxrwxrwx 1 lsj975 qbio 775474314 May 30 19:25 SRR458759.fasta.gz\n"
     ]
    }
   ],
   "source": [
    "!ls -al"
   ]
  }
 ],
 "metadata": {
  "kernelspec": {
   "display_name": "lab",
   "language": "python",
   "name": "python3"
  },
  "language_info": {
   "codemirror_mode": {
    "name": "ipython",
    "version": 3
   },
   "file_extension": ".py",
   "mimetype": "text/x-python",
   "name": "python",
   "nbconvert_exporter": "python",
   "pygments_lexer": "ipython3",
   "version": "3.9.16"
  }
 },
 "nbformat": 4,
 "nbformat_minor": 2
}
