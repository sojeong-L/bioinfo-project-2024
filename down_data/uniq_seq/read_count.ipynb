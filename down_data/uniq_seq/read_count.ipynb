{
 "cells": [
  {
   "cell_type": "markdown",
   "metadata": {},
   "source": [
    "#### Count unique sequence "
   ]
  },
  {
   "cell_type": "code",
   "execution_count": 10,
   "metadata": {},
   "outputs": [],
   "source": [
    "from collections import defaultdict\n",
    "\n",
    "def count_reads(sam_file, output_file):\n",
    "    read_counts = defaultdict(int)\n",
    "    n=1\n",
    "    with open(sam_file, 'r') as f:\n",
    "        for line in f:\n",
    "            if line.startswith('@'):\n",
    "                continue  # Skip header lines\n",
    "            parts = line.strip().split('\\t')\n",
    "            rname = parts[2]\n",
    "            pos = parts[3]\n",
    "            seq = parts[9]\n",
    "            # NM = parts[15]\n",
    "  \n",
    "            key = (rname, pos, seq)\n",
    "            read_counts[key] += 1\n",
    "\n",
    "    with open(output_file, 'w') as f_out:\n",
    "        for key, count in read_counts.items():\n",
    "            name, pos, sequence= key\n",
    "            f_out.write(f\">{count}_{n}\\n{sequence}\\n\")\n",
    "            # f_out.write(f\">{count}\\n{sequence}\\n\")\n",
    "            n+=1"
   ]
  },
  {
   "cell_type": "code",
   "execution_count": 2,
   "metadata": {},
   "outputs": [],
   "source": [
    "sam_file = '/qbio/lsj975/study/down_data/bam/lin28b_mirlet7f1_clip.sam'\n",
    "output_file = '/qbio/lsj975/study/down_data/UCSC/mirlet7f1_read_counts_seqs.txt'"
   ]
  },
  {
   "cell_type": "code",
   "execution_count": 11,
   "metadata": {},
   "outputs": [],
   "source": [
    "count_reads(sam_file, output_file)"
   ]
  },
  {
   "cell_type": "code",
   "execution_count": 7,
   "metadata": {},
   "outputs": [
    {
     "name": "stdout",
     "output_type": "stream",
     "text": [
      ">1\n",
      "GCCGCGACGGCCCTCTCCGCGAGCGCGAGGAAAC\n",
      ">2\n",
      "TGTACTTTCCATTCCAGAAGAAAACATTGCTCTATCAG\n",
      ">1\n",
      "ACTTTCCATTCCAGAAGAAAACATTGCTCTATCAGA\n",
      ">1\n",
      "TCCATTCCAGAAGAAAACATTGCTCTATCAGAGTGAGGT\n",
      ">1\n",
      "CCAGAAGAAAACATTGCTCTATCAGAGTGAGGTAGTAGATT\n"
     ]
    }
   ],
   "source": [
    "!head /qbio/lsj975/study/down_data/UCSC/mirlet7f1_read_counts_seqs.txt"
   ]
  },
  {
   "cell_type": "code",
   "execution_count": null,
   "metadata": {},
   "outputs": [],
   "source": []
  }
 ],
 "metadata": {
  "kernelspec": {
   "display_name": "lab",
   "language": "python",
   "name": "python3"
  },
  "language_info": {
   "codemirror_mode": {
    "name": "ipython",
    "version": 3
   },
   "file_extension": ".py",
   "mimetype": "text/x-python",
   "name": "python",
   "nbconvert_exporter": "python",
   "pygments_lexer": "ipython3",
   "version": "3.9.16"
  }
 },
 "nbformat": 4,
 "nbformat_minor": 2
}
